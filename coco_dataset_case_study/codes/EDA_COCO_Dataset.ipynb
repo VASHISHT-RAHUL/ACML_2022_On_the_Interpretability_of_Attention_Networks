{
  "nbformat": 4,
  "nbformat_minor": 0,
  "metadata": {
    "colab": {
      "name": "EDA_COCO_Dataset.ipynb",
      "provenance": [],
      "collapsed_sections": [],
      "toc_visible": true
    },
    "kernelspec": {
      "display_name": "Python 3",
      "language": "python",
      "name": "python3"
    },
    "language_info": {
      "codemirror_mode": {
        "name": "ipython",
        "version": 3
      },
      "file_extension": ".py",
      "mimetype": "text/x-python",
      "name": "python",
      "nbconvert_exporter": "python",
      "pygments_lexer": "ipython3",
      "version": "3.8.1"
    }
  },
  "cells": [
    {
      "cell_type": "code",
      "metadata": {
        "id": "Zi86iD-jW-oI"
      },
      "source": [
        "import numpy as np\r\n",
        "import pandas as pd\r\n",
        "from matplotlib import pyplot as plt\r\n",
        "%matplotlib inline\r\n",
        "\r\n",
        "import torch\r\n",
        "import torchvision\r\n",
        "import torch.nn as nn\r\n",
        "import torchvision.datasets as dset\r\n",
        "import torchvision.transforms as transforms\r\n",
        "from torch.utils.data import Dataset,DataLoader\r\n",
        "from tqdm import tqdm as tqdm\r\n",
        "import unicodedata\r\n",
        "import pycocotools\r\n",
        "\r\n",
        "import re\r\n",
        "import random \r\n",
        "import itertools\r\n",
        "import time\r\n",
        "\r\n",
        "\r\n",
        "device = torch.device(\"cuda\" if torch.cuda.is_available() else \"cpu\")\r\n",
        "dir = \"/content/drive/MyDrive/cocodataset/\""
      ],
      "execution_count": 104,
      "outputs": []
    },
    {
      "cell_type": "code",
      "metadata": {
        "id": "yxt_HlqyXEcW"
      },
      "source": [
        "import os \r\n",
        "import sys\r\n",
        "from pycocotools.coco import COCO\r\n",
        "import urllib\r\n",
        "import zipfile"
      ],
      "execution_count": 105,
      "outputs": []
    },
    {
      "cell_type": "code",
      "metadata": {
        "colab": {
          "base_uri": "https://localhost:8080/"
        },
        "id": "yV4MUZWFXFM-",
        "outputId": "b7564fec-7021-4059-9335-90b73486f237"
      },
      "source": [
        "os.makedirs('/content/opt' , exist_ok=True)\r\n",
        "os.chdir( '/content/opt' )\r\n",
        "!git clone 'https://github.com/cocodataset/cocoapi.git'"
      ],
      "execution_count": 106,
      "outputs": [
        {
          "output_type": "stream",
          "text": [
            "fatal: destination path 'cocoapi' already exists and is not an empty directory.\n"
          ],
          "name": "stdout"
        }
      ]
    },
    {
      "cell_type": "code",
      "metadata": {
        "colab": {
          "base_uri": "https://localhost:8080/"
        },
        "id": "9xY0Z9JWXFKF",
        "outputId": "c098f88e-82c3-49ee-91a2-c052bf21b881"
      },
      "source": [
        "os.chdir('/content/opt/cocoapi')\r\n",
        "\r\n",
        "# Download the annotation : \r\n",
        "annotations_trainval2014 = 'http://images.cocodataset.org/annotations/annotations_trainval2014.zip'\r\n",
        "image_info_test2014 = 'http://images.cocodataset.org/annotations/image_info_test2014.zip'\r\n",
        "\r\n",
        "\r\n",
        "urllib.request.urlretrieve(annotations_trainval2014 , filename = 'annotations_trainval2014.zip' )\r\n",
        "urllib.request.urlretrieve(image_info_test2014 , filename= 'image_info_test2014.zip' )\r\n"
      ],
      "execution_count": 107,
      "outputs": [
        {
          "output_type": "execute_result",
          "data": {
            "text/plain": [
              "('image_info_test2014.zip', <http.client.HTTPMessage at 0x7fbab2e67860>)"
            ]
          },
          "metadata": {
            "tags": []
          },
          "execution_count": 107
        }
      ]
    },
    {
      "cell_type": "code",
      "metadata": {
        "colab": {
          "base_uri": "https://localhost:8080/"
        },
        "id": "vcgx-ehcXFG1",
        "outputId": "eae07fd4-ff6b-465e-f2ad-72915408a728"
      },
      "source": [
        "with zipfile.ZipFile('annotations_trainval2014.zip' , 'r') as zip_ref:\r\n",
        "  zip_ref.extractall( '/content/opt/cocoapi'  )  \r\n",
        "\r\n",
        "try:\r\n",
        "  os.remove( 'annotations_trainval2014.zip' )\r\n",
        "  print('zip removed')\r\n",
        "except:\r\n",
        "  None\r\n",
        "\r\n",
        "with zipfile.ZipFile('image_info_test2014.zip' , 'r') as zip_ref:\r\n",
        "  zip_ref.extractall( '/content/opt/cocoapi'  )  \r\n",
        "\r\n",
        "try:\r\n",
        "  os.remove( 'image_info_test2014.zip' )\r\n",
        "  print('zip removed')\r\n",
        "except:\r\n",
        "  None\r\n"
      ],
      "execution_count": 108,
      "outputs": [
        {
          "output_type": "stream",
          "text": [
            "zip removed\n",
            "zip removed\n"
          ],
          "name": "stdout"
        }
      ]
    },
    {
      "cell_type": "code",
      "metadata": {
        "id": "1m6CFIZiXVud"
      },
      "source": [
        "import matplotlib.pyplot as plt \r\n",
        "import skimage.io as io \r\n",
        "import numpy as np \r\n",
        "%matplotlib inline"
      ],
      "execution_count": 109,
      "outputs": []
    },
    {
      "cell_type": "code",
      "metadata": {
        "id": "whhlJwqjXYtQ"
      },
      "source": [
        "# #Pick a random annotation id and display img of that annotation  :\r\n",
        "# ann_id = np.random.choice( ids )\r\n",
        "# img_id = coco.anns[ann_id]['image_id']\r\n",
        "# img = coco.loadImgs( img_id )[0]\r\n",
        "# url = img['coco_url']\r\n",
        "# print(url)\r\n",
        "# I = io.imread(url)\r\n",
        "# plt.imshow(I)\r\n",
        "\r\n",
        "# # Display captions for that annotation id :\r\n",
        "# ann_ids = coco_caps.getAnnIds( img_id   )\r\n",
        "# print('Number of annotations i.e captions for the image: ' , ann_ids)\r\n",
        "# print()\r\n",
        "# anns = coco_caps.loadAnns( ann_ids )\r\n",
        "# coco_caps.showAnns(anns)"
      ],
      "execution_count": 110,
      "outputs": []
    },
    {
      "cell_type": "code",
      "metadata": {
        "colab": {
          "base_uri": "https://localhost:8080/"
        },
        "id": "Dpf_FSlfXYqt",
        "outputId": "8a6b3bb7-28c0-47d7-f887-d9e6e910958b"
      },
      "source": [
        "os.chdir('/content/opt/cocoapi')\r\n",
        "\r\n",
        "train2014 = 'http://images.cocodataset.org/zips/train2014.zip'\r\n",
        "#test2014 = 'http://images.cocodataset.org/zips/test2014.zip'\r\n",
        "#val2014 = 'http://images.cocodataset.org/zips/val2014.zip'\r\n",
        "\r\n",
        "urllib.request.urlretrieve( train2014 , 'train2014' )\r\n",
        "#urllib.request.urlretrieve( test2014 , 'test2014' )\r\n",
        "#urllib.request.urlretrieve( val2014 , 'val2014' )"
      ],
      "execution_count": 111,
      "outputs": [
        {
          "output_type": "execute_result",
          "data": {
            "text/plain": [
              "('train2014', <http.client.HTTPMessage at 0x7fbab2e67b00>)"
            ]
          },
          "metadata": {
            "tags": []
          },
          "execution_count": 111
        }
      ]
    },
    {
      "cell_type": "code",
      "metadata": {
        "colab": {
          "base_uri": "https://localhost:8080/"
        },
        "id": "YLywPTJbXYnu",
        "outputId": "a44dcfb1-dd8b-4ab9-e97b-426d0c400400"
      },
      "source": [
        "os.chdir('/content/opt/cocoapi')\r\n",
        "with zipfile.ZipFile( 'train2014' , 'r' ) as zip_ref:\r\n",
        "  zip_ref.extractall( 'images' )\r\n",
        "\r\n",
        "try:\r\n",
        "  os.remove( 'train2014' )\r\n",
        "  print('zip removed')\r\n",
        "except:\r\n",
        "  None"
      ],
      "execution_count": 112,
      "outputs": [
        {
          "output_type": "stream",
          "text": [
            "zip removed\n"
          ],
          "name": "stdout"
        }
      ]
    },
    {
      "cell_type": "code",
      "metadata": {
        "colab": {
          "base_uri": "https://localhost:8080/"
        },
        "id": "sm4P3fkTXpC-",
        "outputId": "154c117a-71af-40f9-edd1-a9a4ca19a549"
      },
      "source": [
        "import glob\r\n",
        "files = glob.glob(\"/content/opt/cocoapi/images/train2014/*.jpg\",recursive=True)\r\n",
        "len(files)"
      ],
      "execution_count": 113,
      "outputs": [
        {
          "output_type": "execute_result",
          "data": {
            "text/plain": [
              "82783"
            ]
          },
          "metadata": {
            "tags": []
          },
          "execution_count": 113
        }
      ]
    },
    {
      "cell_type": "code",
      "metadata": {
        "colab": {
          "base_uri": "https://localhost:8080/"
        },
        "id": "3VNXQnMKZD0l",
        "outputId": "9eba9c45-dc80-44f5-8f5a-7fd5c9509fa7"
      },
      "source": [
        "data_transform = transforms.Compose([transforms.Resize((224,224)),transforms.ToTensor()])\r\n",
        "\r\n",
        "coco_train_caption = dset.CocoCaptions(root=\"/content/opt/cocoapi/images/train2014\",annFile=\"/content/opt/cocoapi/annotations/captions_train2014.json\",transform=data_transform)"
      ],
      "execution_count": 114,
      "outputs": [
        {
          "output_type": "stream",
          "text": [
            "loading annotations into memory...\n",
            "Done (t=1.85s)\n",
            "creating index...\n",
            "index created!\n"
          ],
          "name": "stdout"
        }
      ]
    },
    {
      "cell_type": "code",
      "metadata": {
        "id": "tPJeN4TsZDuF"
      },
      "source": [
        "img_caption,target_caption = coco_train_caption[1]"
      ],
      "execution_count": 115,
      "outputs": []
    },
    {
      "cell_type": "code",
      "metadata": {
        "colab": {
          "base_uri": "https://localhost:8080/"
        },
        "id": "8YE1DoWwZZr8",
        "outputId": "66489680-5df7-4426-bed6-3b80438bf2ae"
      },
      "source": [
        "data_transform = transforms.Compose([transforms.Resize((224,224)),transforms.ToTensor()])\r\n",
        "\r\n",
        "coco_train_detection = dset.CocoDetection(root=\"/content/opt/cocoapi/images/train2014\",annFile=\"/content/opt/cocoapi/annotations/instances_train2014.json\")#,transform=data_transform)"
      ],
      "execution_count": 116,
      "outputs": [
        {
          "output_type": "stream",
          "text": [
            "loading annotations into memory...\n",
            "Done (t=23.17s)\n",
            "creating index...\n",
            "index created!\n"
          ],
          "name": "stdout"
        }
      ]
    },
    {
      "cell_type": "code",
      "metadata": {
        "id": "EMqty63oZZpd"
      },
      "source": [
        "img_detection,target_detection = coco_train_detection[1]"
      ],
      "execution_count": 117,
      "outputs": []
    },
    {
      "cell_type": "code",
      "metadata": {
        "colab": {
          "base_uri": "https://localhost:8080/"
        },
        "id": "Ji7mHOZ4ZZmf",
        "outputId": "82680cf2-0db1-4590-fef5-842135a726ca"
      },
      "source": [
        "img_caption.size()\r\n",
        "original_shape = np.array(img_detection).shape\r\n",
        "print(original_shape)"
      ],
      "execution_count": 118,
      "outputs": [
        {
          "output_type": "stream",
          "text": [
            "(426, 640, 3)\n"
          ],
          "name": "stdout"
        }
      ]
    },
    {
      "cell_type": "code",
      "metadata": {
        "id": "LrAFjNngZZj3"
      },
      "source": [
        "def bbox_transform_coco2cv(b,wratio,hratio):\r\n",
        "    b = [b[0]*wratio,b[1]*hratio,b[2]*wratio,b[3]*hratio]\r\n",
        "    temp = [b[0],b[1]]\r\n",
        "    temp.append(b[0]+b[2])\r\n",
        "    temp.append(b[1]+b[3])\r\n",
        "    for i in range(len(temp)):\r\n",
        "        temp[i] = int(temp[i])\r\n",
        "    temp2 = [temp[1],temp[0],temp[3],temp[2]]\r\n",
        "    return np.array(temp).astype(int),temp2 #(x1,y1,x2,y2)"
      ],
      "execution_count": 119,
      "outputs": []
    },
    {
      "cell_type": "markdown",
      "metadata": {
        "id": "0VMf5tWxZkWX"
      },
      "source": [
        "Preprocessing captions"
      ]
    },
    {
      "cell_type": "code",
      "metadata": {
        "id": "Khj7hxDkZDeP"
      },
      "source": [
        "# Turn a Unicode string to plain ASCII, thanks to\r\n",
        "# https://stackoverflow.com/a/518232/2809427\r\n",
        "def unicodeToAscii(s):\r\n",
        "    return ''.join(\r\n",
        "        c for c in unicodedata.normalize('NFD', s)\r\n",
        "        if unicodedata.category(c) != 'Mn'\r\n",
        "    )\r\n",
        "\r\n",
        "# Lowercase, trim, and remove non-letter characters\r\n",
        "def normalizeString(s):\r\n",
        "    s = unicodeToAscii(s.lower().strip())\r\n",
        "    s = re.sub(r\"([.!?])\", r\" \\1\", s)\r\n",
        "    s = re.sub(r\"[^a-zA-Z.!?]+\", r\" \", s)\r\n",
        "    return s"
      ],
      "execution_count": 120,
      "outputs": []
    },
    {
      "cell_type": "code",
      "metadata": {
        "id": "Xa-YfVaiZms-"
      },
      "source": [
        "SOS_token = 1\r\n",
        "EOS_token = 2\r\n",
        "PAD_token = 0\r\n",
        "UNK_token = 3\r\n",
        "\r\n",
        "class Vocabulary:\r\n",
        "    \r\n",
        "    def __init__(self,name):\r\n",
        "        self.word2index = {\"SOS\":1,\"EOS\":2,\"UNK\":3,\"PAD\":0}\r\n",
        "        self.index2word = {1:\"SOS\",2:\"EOS\",3:\"UNK\",0:\"PAD\"}\r\n",
        "        self.word2count = {}\r\n",
        "        self.nwords = 4\r\n",
        "        \r\n",
        "    def addSentence(self,sentence):\r\n",
        "        for word in sentence.split(' '):\r\n",
        "            self.addWord(word)\r\n",
        "            \r\n",
        "    def addWord(self,word):\r\n",
        "        if word not in list(self.word2index.keys()):\r\n",
        "            self.word2index[word] = self.nwords\r\n",
        "            self.index2word[self.nwords] = word\r\n",
        "            self.word2count[word] = 1\r\n",
        "            self.nwords += 1\r\n",
        "        else:\r\n",
        "            self.word2count[word] += 1\r\n",
        "            \r\n",
        "    def save(self,word2index_dic = 'word2index_dic', index2word_dic = 'index2word_dic',\r\n",
        "         word2count_dic = 'word2count_dic'):\r\n",
        "\r\n",
        "        with open('/content/Save/'+word2index_dic+'.p', 'wb') as fp:\r\n",
        "            pickle.dump(self.word2index, fp, protocol=pickle.HIGHEST_PROTOCOL)\r\n",
        "\r\n",
        "        with open('/content/Save/'+index2word_dic+'.p', 'wb') as fp:\r\n",
        "            pickle.dump(self.index2word, fp, protocol=pickle.HIGHEST_PROTOCOL)\r\n",
        "\r\n",
        "        with open('/content/Save/'+word2count_dic+'.p', 'wb') as fp:\r\n",
        "            pickle.dump(self.word2count, fp, protocol=pickle.HIGHEST_PROTOCOL)\r\n",
        "\r\n",
        "    def load(self, word2index_dic = 'word2index_dic', index2word_dic = 'index2word_dic',\r\n",
        "             word2count_dic = 'word2count_dic'):\r\n",
        "        \r\n",
        "        with open('/content/Save/'+word2index_dic+'.p', 'rb') as fp:\r\n",
        "            self.word2index = pickle.load(fp)\r\n",
        "            \r\n",
        "        with open('/content/Save/'+index2word_dic+'.p', 'rb') as fp:\r\n",
        "            self.index2word = pickle.load(fp)\r\n",
        "            \r\n",
        "        with open('/content/Save/'+word2count_dic+'.p', 'rb') as fp:\r\n",
        "            self.word2count = pickle.load(fp)\r\n",
        "            \r\n",
        "        self.nwords = len(self.word2index)\r\n",
        "\r\n",
        "            \r\n",
        "voc = Vocabulary('COCO_TRAIN')\r\n",
        "#voc.load()"
      ],
      "execution_count": 121,
      "outputs": []
    },
    {
      "cell_type": "code",
      "metadata": {
        "id": "CS0BnTWzZmqz"
      },
      "source": [
        "import pickle\r\n",
        "# for _,target in tqdm.tqdm(coco_train_caption):\r\n",
        "#     for sen in target:\r\n",
        "#         voc.addSentence(normalizeString(sen))\r\n",
        "        \r\n",
        "# voc.save()\r\n",
        "voc.load()"
      ],
      "execution_count": 122,
      "outputs": []
    },
    {
      "cell_type": "code",
      "metadata": {
        "id": "gx6zY3l3Zmn2"
      },
      "source": [
        "\r\n",
        "class COCO14Dataset(Dataset):\r\n",
        "    def __init__(self,coco_caption,coco_detection,voc,transforms=None):\r\n",
        "        self.coco_caption = coco_caption\r\n",
        "        self.coco_detection = coco_detection\r\n",
        "        self.voc = voc\r\n",
        "        self.transforms = transforms\r\n",
        "    def __len__(self):\r\n",
        "        return len(self.coco_caption)\r\n",
        "    def __getitem__(self,idx):\r\n",
        "        img,target = self.coco_caption[idx]\r\n",
        "        img_detection,detection_target = self.coco_detection[idx]\r\n",
        "        \r\n",
        "        \r\n",
        "        original_shape = np.array(img_detection).shape\r\n",
        "\r\n",
        "        lbl = normalizeString(random.choice(target))\r\n",
        "        label = []\r\n",
        "        for s in lbl.split(' '):\r\n",
        "            if s in list(voc.word2count.keys()):\r\n",
        "                label.append(voc.word2index[s])\r\n",
        "            else:\r\n",
        "                label.append(UNK_token)\r\n",
        "        label = [SOS_token]+label +[EOS_token]\r\n",
        "        \r\n",
        "        bounding_box = []\r\n",
        "        bounding_box_category = []\r\n",
        "        wratio = (224*1.0)/original_shape[0]\r\n",
        "        hratio = (224*1.0)/original_shape[1]\r\n",
        "\r\n",
        "        for i in range(len(detection_target)):\r\n",
        "          bnding_box = detection_target[i]['bbox']\r\n",
        "          b_category = detection_target[i]['category_id']\r\n",
        "          bbox_plt ,_ = bbox_transform_coco2cv(bnding_box,hratio,wratio)\r\n",
        "          bounding_box.append(list(bbox_plt))\r\n",
        "          bounding_box_category.append(b_category)\r\n",
        "\r\n",
        "\r\n",
        "        return img, label,bounding_box,bounding_box_category"
      ],
      "execution_count": 123,
      "outputs": []
    },
    {
      "cell_type": "code",
      "metadata": {
        "id": "IZczVBtuZmkm"
      },
      "source": [
        "batch_size = 32\r\n",
        "train_dset = COCO14Dataset(coco_train_caption,coco_train_detection,voc,transforms=data_transform)\r\n",
        "\r\n",
        "def collate_fn(batch):\r\n",
        "    data = [item[0] for item in batch]\r\n",
        "    images = torch.stack(data,0)\r\n",
        "    \r\n",
        "    label = [item[1] for item in batch]\r\n",
        "    max_target_len = max([len(indexes) for indexes in label])\r\n",
        "    padList = list(itertools.zip_longest(*label, fillvalue = 0))\r\n",
        "    lengths = torch.tensor([len(p) for p in label])\r\n",
        "    padVar = torch.LongTensor(padList)\r\n",
        "    bounding_box = [item[2] for item in batch]\r\n",
        "    bounding_box_category = [item[3] for item in batch]\r\n",
        "   \r\n",
        "   \r\n",
        "    m = []\r\n",
        "    for i, seq in enumerate(padVar):\r\n",
        "        #m.append([])\r\n",
        "        tmp = []\r\n",
        "        for token in seq:\r\n",
        "            if token == 0:\r\n",
        "                tmp.append(int(0))\r\n",
        "            else:\r\n",
        "                tmp.append(1)\r\n",
        "        m.append(tmp)\r\n",
        "    m = torch.tensor(m)\r\n",
        "    \r\n",
        "    return images, padVar, m, max_target_len,bounding_box,bounding_box_category\r\n",
        "\r\n",
        "train_loader=DataLoader(train_dset,batch_size = batch_size, num_workers = 8,shuffle = False,\r\n",
        "                    collate_fn = collate_fn, drop_last=True)"
      ],
      "execution_count": 124,
      "outputs": []
    },
    {
      "cell_type": "markdown",
      "metadata": {
        "id": "L8IWzXTbXESW"
      },
      "source": [
        "## Exploratory Data Analysis on COCO datasets\r\n",
        "\r\n"
      ]
    },
    {
      "cell_type": "code",
      "metadata": {
        "id": "LWMSpySKXESZ"
      },
      "source": [
        "import json\n",
        "import pandas as pd\n",
        "import matplotlib.pyplot as plt\n",
        "import matplotlib\n",
        "import numpy as np\n",
        "import pdb\n",
        "import os\n",
        "from pycocotools.coco import COCO\n",
        "from skimage import io\n",
        "\n",
        "font = {'family' : 'Arial',\n",
        "        'weight' : 'normal',\n",
        "        'size'   : 12}\n",
        "\n",
        "matplotlib.rc('font', **font)"
      ],
      "execution_count": 125,
      "outputs": []
    },
    {
      "cell_type": "markdown",
      "metadata": {
        "id": "SDHvObhuXESb"
      },
      "source": [
        "## Setting the root directory and annotation json file"
      ]
    },
    {
      "cell_type": "code",
      "metadata": {
        "colab": {
          "base_uri": "https://localhost:8080/"
        },
        "id": "vk1PlPxLXESc",
        "outputId": "6f50550c-c8a8-4593-825a-7f012c596d54"
      },
      "source": [
        "\n",
        "# src_root = '../../../../datasets/voc2012/'\n",
        "# src_subset = 'images/'\n",
        "# src_file = src_root+'annotations/instances_train2012.json'\n",
        "# src_desc = 'train2017_voc12' \n",
        "\n",
        "src_root = '../../../../datasets/coco/'\n",
        "src_subset = '/content/opt/cocoapi/images/train2014'\n",
        "src_file = '/content/opt/cocoapi/annotations/instances_train2014.json'\n",
        "src_desc = 'train2014_coco' # a name (identifier) for the dataset\n",
        "annotation_file = '/content/opt/cocoapi/annotations/captions_train2014.json'\n",
        "\n",
        "coco_obj = COCO(src_file)"
      ],
      "execution_count": 126,
      "outputs": [
        {
          "output_type": "stream",
          "text": [
            "loading annotations into memory...\n",
            "Done (t=20.30s)\n",
            "creating index...\n",
            "index created!\n"
          ],
          "name": "stdout"
        }
      ]
    },
    {
      "cell_type": "code",
      "metadata": {
        "id": "WjoKp52yXESe",
        "colab": {
          "base_uri": "https://localhost:8080/"
        },
        "outputId": "59406758-fd6a-455b-bbc9-7729e558dcdc"
      },
      "source": [
        "# Reading the json file\n",
        "with open(src_file, 'r') as f:\n",
        "    root = json.load(f)\n",
        "\n",
        "root.keys()"
      ],
      "execution_count": 127,
      "outputs": [
        {
          "output_type": "execute_result",
          "data": {
            "text/plain": [
              "dict_keys(['info', 'images', 'licenses', 'annotations', 'categories'])"
            ]
          },
          "metadata": {
            "tags": []
          },
          "execution_count": 127
        }
      ]
    },
    {
      "cell_type": "code",
      "metadata": {
        "colab": {
          "base_uri": "https://localhost:8080/"
        },
        "id": "lvRjOC6zOMUr",
        "outputId": "fc01bff9-a3ba-45eb-eb14-0ba6f349b440"
      },
      "source": [
        "with open(annotation_file, 'r') as f:\r\n",
        "    caption = json.load(f)\r\n",
        "\r\n",
        "caption.keys()"
      ],
      "execution_count": 128,
      "outputs": [
        {
          "output_type": "execute_result",
          "data": {
            "text/plain": [
              "dict_keys(['info', 'images', 'licenses', 'annotations'])"
            ]
          },
          "metadata": {
            "tags": []
          },
          "execution_count": 128
        }
      ]
    },
    {
      "cell_type": "code",
      "metadata": {
        "id": "D1OYTA5yOUtj"
      },
      "source": [
        "# caption['annotations']"
      ],
      "execution_count": 173,
      "outputs": []
    },
    {
      "cell_type": "code",
      "metadata": {
        "id": "725vIcLTDEuc",
        "colab": {
          "base_uri": "https://localhost:8080/"
        },
        "outputId": "975778d0-a8e9-4711-af0f-e887ff45c84f"
      },
      "source": [
        "# root['annotations']\r\n",
        "root['categories']"
      ],
      "execution_count": 130,
      "outputs": [
        {
          "output_type": "execute_result",
          "data": {
            "text/plain": [
              "[{'id': 1, 'name': 'person', 'supercategory': 'person'},\n",
              " {'id': 2, 'name': 'bicycle', 'supercategory': 'vehicle'},\n",
              " {'id': 3, 'name': 'car', 'supercategory': 'vehicle'},\n",
              " {'id': 4, 'name': 'motorcycle', 'supercategory': 'vehicle'},\n",
              " {'id': 5, 'name': 'airplane', 'supercategory': 'vehicle'},\n",
              " {'id': 6, 'name': 'bus', 'supercategory': 'vehicle'},\n",
              " {'id': 7, 'name': 'train', 'supercategory': 'vehicle'},\n",
              " {'id': 8, 'name': 'truck', 'supercategory': 'vehicle'},\n",
              " {'id': 9, 'name': 'boat', 'supercategory': 'vehicle'},\n",
              " {'id': 10, 'name': 'traffic light', 'supercategory': 'outdoor'},\n",
              " {'id': 11, 'name': 'fire hydrant', 'supercategory': 'outdoor'},\n",
              " {'id': 13, 'name': 'stop sign', 'supercategory': 'outdoor'},\n",
              " {'id': 14, 'name': 'parking meter', 'supercategory': 'outdoor'},\n",
              " {'id': 15, 'name': 'bench', 'supercategory': 'outdoor'},\n",
              " {'id': 16, 'name': 'bird', 'supercategory': 'animal'},\n",
              " {'id': 17, 'name': 'cat', 'supercategory': 'animal'},\n",
              " {'id': 18, 'name': 'dog', 'supercategory': 'animal'},\n",
              " {'id': 19, 'name': 'horse', 'supercategory': 'animal'},\n",
              " {'id': 20, 'name': 'sheep', 'supercategory': 'animal'},\n",
              " {'id': 21, 'name': 'cow', 'supercategory': 'animal'},\n",
              " {'id': 22, 'name': 'elephant', 'supercategory': 'animal'},\n",
              " {'id': 23, 'name': 'bear', 'supercategory': 'animal'},\n",
              " {'id': 24, 'name': 'zebra', 'supercategory': 'animal'},\n",
              " {'id': 25, 'name': 'giraffe', 'supercategory': 'animal'},\n",
              " {'id': 27, 'name': 'backpack', 'supercategory': 'accessory'},\n",
              " {'id': 28, 'name': 'umbrella', 'supercategory': 'accessory'},\n",
              " {'id': 31, 'name': 'handbag', 'supercategory': 'accessory'},\n",
              " {'id': 32, 'name': 'tie', 'supercategory': 'accessory'},\n",
              " {'id': 33, 'name': 'suitcase', 'supercategory': 'accessory'},\n",
              " {'id': 34, 'name': 'frisbee', 'supercategory': 'sports'},\n",
              " {'id': 35, 'name': 'skis', 'supercategory': 'sports'},\n",
              " {'id': 36, 'name': 'snowboard', 'supercategory': 'sports'},\n",
              " {'id': 37, 'name': 'sports ball', 'supercategory': 'sports'},\n",
              " {'id': 38, 'name': 'kite', 'supercategory': 'sports'},\n",
              " {'id': 39, 'name': 'baseball bat', 'supercategory': 'sports'},\n",
              " {'id': 40, 'name': 'baseball glove', 'supercategory': 'sports'},\n",
              " {'id': 41, 'name': 'skateboard', 'supercategory': 'sports'},\n",
              " {'id': 42, 'name': 'surfboard', 'supercategory': 'sports'},\n",
              " {'id': 43, 'name': 'tennis racket', 'supercategory': 'sports'},\n",
              " {'id': 44, 'name': 'bottle', 'supercategory': 'kitchen'},\n",
              " {'id': 46, 'name': 'wine glass', 'supercategory': 'kitchen'},\n",
              " {'id': 47, 'name': 'cup', 'supercategory': 'kitchen'},\n",
              " {'id': 48, 'name': 'fork', 'supercategory': 'kitchen'},\n",
              " {'id': 49, 'name': 'knife', 'supercategory': 'kitchen'},\n",
              " {'id': 50, 'name': 'spoon', 'supercategory': 'kitchen'},\n",
              " {'id': 51, 'name': 'bowl', 'supercategory': 'kitchen'},\n",
              " {'id': 52, 'name': 'banana', 'supercategory': 'food'},\n",
              " {'id': 53, 'name': 'apple', 'supercategory': 'food'},\n",
              " {'id': 54, 'name': 'sandwich', 'supercategory': 'food'},\n",
              " {'id': 55, 'name': 'orange', 'supercategory': 'food'},\n",
              " {'id': 56, 'name': 'broccoli', 'supercategory': 'food'},\n",
              " {'id': 57, 'name': 'carrot', 'supercategory': 'food'},\n",
              " {'id': 58, 'name': 'hot dog', 'supercategory': 'food'},\n",
              " {'id': 59, 'name': 'pizza', 'supercategory': 'food'},\n",
              " {'id': 60, 'name': 'donut', 'supercategory': 'food'},\n",
              " {'id': 61, 'name': 'cake', 'supercategory': 'food'},\n",
              " {'id': 62, 'name': 'chair', 'supercategory': 'furniture'},\n",
              " {'id': 63, 'name': 'couch', 'supercategory': 'furniture'},\n",
              " {'id': 64, 'name': 'potted plant', 'supercategory': 'furniture'},\n",
              " {'id': 65, 'name': 'bed', 'supercategory': 'furniture'},\n",
              " {'id': 67, 'name': 'dining table', 'supercategory': 'furniture'},\n",
              " {'id': 70, 'name': 'toilet', 'supercategory': 'furniture'},\n",
              " {'id': 72, 'name': 'tv', 'supercategory': 'electronic'},\n",
              " {'id': 73, 'name': 'laptop', 'supercategory': 'electronic'},\n",
              " {'id': 74, 'name': 'mouse', 'supercategory': 'electronic'},\n",
              " {'id': 75, 'name': 'remote', 'supercategory': 'electronic'},\n",
              " {'id': 76, 'name': 'keyboard', 'supercategory': 'electronic'},\n",
              " {'id': 77, 'name': 'cell phone', 'supercategory': 'electronic'},\n",
              " {'id': 78, 'name': 'microwave', 'supercategory': 'appliance'},\n",
              " {'id': 79, 'name': 'oven', 'supercategory': 'appliance'},\n",
              " {'id': 80, 'name': 'toaster', 'supercategory': 'appliance'},\n",
              " {'id': 81, 'name': 'sink', 'supercategory': 'appliance'},\n",
              " {'id': 82, 'name': 'refrigerator', 'supercategory': 'appliance'},\n",
              " {'id': 84, 'name': 'book', 'supercategory': 'indoor'},\n",
              " {'id': 85, 'name': 'clock', 'supercategory': 'indoor'},\n",
              " {'id': 86, 'name': 'vase', 'supercategory': 'indoor'},\n",
              " {'id': 87, 'name': 'scissors', 'supercategory': 'indoor'},\n",
              " {'id': 88, 'name': 'teddy bear', 'supercategory': 'indoor'},\n",
              " {'id': 89, 'name': 'hair drier', 'supercategory': 'indoor'},\n",
              " {'id': 90, 'name': 'toothbrush', 'supercategory': 'indoor'}]"
            ]
          },
          "metadata": {
            "tags": []
          },
          "execution_count": 130
        }
      ]
    },
    {
      "cell_type": "markdown",
      "metadata": {
        "id": "vgOATbKjXESf"
      },
      "source": [
        "## Basic High Level Information"
      ]
    },
    {
      "cell_type": "code",
      "metadata": {
        "id": "Bq3A4tm3XESh",
        "colab": {
          "base_uri": "https://localhost:8080/"
        },
        "outputId": "d9821034-e716-416f-e3ca-515d47669cb2"
      },
      "source": [
        "# Basic High Level Information\n",
        "\n",
        "n_images = len(root['images'])\n",
        "n_boxes = len(root['annotations'])\n",
        "n_categ = len(root['categories'])\n",
        "\n",
        "# height, width\n",
        "heights = [x['height'] for x in root['images']]\n",
        "widths = [x['width'] for x in root['images']]\n",
        "\n",
        "\n",
        "\n",
        "\n",
        "print('Dataset Name: ',src_desc)\n",
        "print('Number of images: ',n_images)\n",
        "print('Number of bounding boxes: ', n_boxes)\n",
        "print('Number of classes: ', n_categ)\n",
        "print('Max min avg height: ', max(heights), min(heights), int(sum(heights)/len(heights)))\n",
        "print('Max min avg width: ', max(widths), min(widths), int(sum(widths)/len(widths)))"
      ],
      "execution_count": 131,
      "outputs": [
        {
          "output_type": "stream",
          "text": [
            "Dataset Name:  train2014_coco\n",
            "Number of images:  82783\n",
            "Number of bounding boxes:  604907\n",
            "Number of classes:  80\n",
            "Max min avg height:  640 51 483\n",
            "Max min avg width:  640 59 578\n"
          ],
          "name": "stdout"
        }
      ]
    },
    {
      "cell_type": "markdown",
      "metadata": {
        "id": "vyiWR2LpXESi"
      },
      "source": [
        "## Distribution of objects across images"
      ]
    },
    {
      "cell_type": "code",
      "metadata": {
        "id": "0k_5pzX2XESi"
      },
      "source": [
        "# Objects per image distribution\n",
        "\n",
        "img2nboxes = {} # mapping \"image id\" to \"number of boxes\"\n",
        "\n",
        "for ann in root['annotations']:\n",
        "    img_id = ann['image_id']\n",
        "    \n",
        "    if img_id in img2nboxes.keys():\n",
        "        img2nboxes[img_id] += 1\n",
        "    else:\n",
        "        img2nboxes[img_id] = 1\n",
        "\n",
        "nboxes_list = list(img2nboxes.values())\n",
        "\n",
        "min_nboxes = min(nboxes_list)\n",
        "max_nboxes = max(nboxes_list)\n",
        "avg_nboxes = int(sum(nboxes_list)/len(nboxes_list))"
      ],
      "execution_count": 132,
      "outputs": []
    },
    {
      "cell_type": "code",
      "metadata": {
        "id": "xgR4e4-yXESk",
        "colab": {
          "base_uri": "https://localhost:8080/",
          "height": 432
        },
        "outputId": "21442946-1569-4598-b42d-1b13288bdb7b"
      },
      "source": [
        "out = pd.cut(nboxes_list, bins=np.arange(0,max_nboxes+10,10), include_lowest=True)\n",
        "\n",
        "counts = out.value_counts().values\n",
        "labels = [(int(i.left),int(i.right)) for i in out.value_counts().index.categories]\n",
        "\n",
        "graph_xind = [i[0] for i in labels] \n",
        "ticks = [ '('+str(i[0])+','+ str(i[1])+')' for i in labels]\n",
        "\n",
        "plt.figure(figsize=(10,5))\n",
        "plt.bar(graph_xind, counts, tick_label=ticks, width=5)\n",
        "plt.xlabel('Number of objects')\n",
        "plt.ylabel('Number of images')\n",
        "plt.title('Number of objects distribution over the dataset')\n",
        "plt.show()\n",
        "\n",
        "print(\"Number of images having atleast one box: \", len(nboxes_list))\n",
        "print(\"Min number of boxes per image: \", min_nboxes)\n",
        "print(\"Max number of boxes per image: \", max_nboxes)\n",
        "print(\"Avg number of boxes per image: \", avg_nboxes)"
      ],
      "execution_count": 133,
      "outputs": [
        {
          "output_type": "display_data",
          "data": {
            "image/png": "[encoded data removed]",
            "text/plain": [
              "<Figure size 720x360 with 1 Axes>"
            ]
          },
          "metadata": {
            "tags": [],
            "needs_background": "light"
          }
        },
        {
          "output_type": "stream",
          "text": [
            "Number of images having atleast one box:  82081\n",
            "Min number of boxes per image:  1\n",
            "Max number of boxes per image:  93\n",
            "Avg number of boxes per image:  7\n"
          ],
          "name": "stdout"
        }
      ]
    },
    {
      "cell_type": "markdown",
      "metadata": {
        "id": "tK1rnK_RXESl"
      },
      "source": [
        "## Class wise distribution of objects"
      ]
    },
    {
      "cell_type": "code",
      "metadata": {
        "id": "R2U7B7nrXESn",
        "colab": {
          "base_uri": "https://localhost:8080/",
          "height": 1000
        },
        "outputId": "efae73fe-b5e3-4381-a7f3-dce9957c5b1a"
      },
      "source": [
        "# Class distribution\n",
        "class2nboxes = {} \n",
        "\n",
        "for ann in root['annotations']:\n",
        "    cat_id = ann['category_id']\n",
        "    \n",
        "    if cat_id in class2nboxes.keys():\n",
        "        class2nboxes[cat_id] += 1\n",
        "    else:\n",
        "        class2nboxes[cat_id] = 1\n",
        "\n",
        "sorted_c2nb = [(k,v)for k, v in sorted(class2nboxes.items(), reverse=True, key=lambda item: item[1])]\n",
        "\n",
        "# top 20 classes\n",
        "top = min(len(sorted_c2nb),20)\n",
        "\n",
        "# to plot\n",
        "y = [i[1] for i in sorted_c2nb[:top]]\n",
        "x = [i[0] for i in sorted_c2nb[:top]]\n",
        "\n",
        "plt.figure(figsize=(10,5))\n",
        "plt.bar(np.arange(len(y)),y, width=0.5,tick_label=x,color='orange')\n",
        "plt.xlim(-0.5,len(y))\n",
        "plt.xlabel('Category Id')\n",
        "plt.ylabel('Number of boxes')\n",
        "plt.title('Class distribution (decreasing order)')\n",
        "plt.show()\n",
        "\n",
        "\n",
        "\n",
        "categ_map = {x['id']: x['name'] for x in root['categories']}\n",
        "for k in categ_map.keys():\n",
        "    print(k,'->',categ_map[k])"
      ],
      "execution_count": 134,
      "outputs": [
        {
          "output_type": "display_data",
          "data": {
            "image/png": "[encoded data removed]",
            "text/plain": [
              "<Figure size 720x360 with 1 Axes>"
            ]
          },
          "metadata": {
            "tags": [],
            "needs_background": "light"
          }
        },
        {
          "output_type": "stream",
          "text": [
            "1 -> person\n",
            "2 -> bicycle\n",
            "3 -> car\n",
            "4 -> motorcycle\n",
            "5 -> airplane\n",
            "6 -> bus\n",
            "7 -> train\n",
            "8 -> truck\n",
            "9 -> boat\n",
            "10 -> traffic light\n",
            "11 -> fire hydrant\n",
            "13 -> stop sign\n",
            "14 -> parking meter\n",
            "15 -> bench\n",
            "16 -> bird\n",
            "17 -> cat\n",
            "18 -> dog\n",
            "19 -> horse\n",
            "20 -> sheep\n",
            "21 -> cow\n",
            "22 -> elephant\n",
            "23 -> bear\n",
            "24 -> zebra\n",
            "25 -> giraffe\n",
            "27 -> backpack\n",
            "28 -> umbrella\n",
            "31 -> handbag\n",
            "32 -> tie\n",
            "33 -> suitcase\n",
            "34 -> frisbee\n",
            "35 -> skis\n",
            "36 -> snowboard\n",
            "37 -> sports ball\n",
            "38 -> kite\n",
            "39 -> baseball bat\n",
            "40 -> baseball glove\n",
            "41 -> skateboard\n",
            "42 -> surfboard\n",
            "43 -> tennis racket\n",
            "44 -> bottle\n",
            "46 -> wine glass\n",
            "47 -> cup\n",
            "48 -> fork\n",
            "49 -> knife\n",
            "50 -> spoon\n",
            "51 -> bowl\n",
            "52 -> banana\n",
            "53 -> apple\n",
            "54 -> sandwich\n",
            "55 -> orange\n",
            "56 -> broccoli\n",
            "57 -> carrot\n",
            "58 -> hot dog\n",
            "59 -> pizza\n",
            "60 -> donut\n",
            "61 -> cake\n",
            "62 -> chair\n",
            "63 -> couch\n",
            "64 -> potted plant\n",
            "65 -> bed\n",
            "67 -> dining table\n",
            "70 -> toilet\n",
            "72 -> tv\n",
            "73 -> laptop\n",
            "74 -> mouse\n",
            "75 -> remote\n",
            "76 -> keyboard\n",
            "77 -> cell phone\n",
            "78 -> microwave\n",
            "79 -> oven\n",
            "80 -> toaster\n",
            "81 -> sink\n",
            "82 -> refrigerator\n",
            "84 -> book\n",
            "85 -> clock\n",
            "86 -> vase\n",
            "87 -> scissors\n",
            "88 -> teddy bear\n",
            "89 -> hair drier\n",
            "90 -> toothbrush\n"
          ],
          "name": "stdout"
        }
      ]
    },
    {
      "cell_type": "markdown",
      "metadata": {
        "id": "Q-nIF_2jXESn"
      },
      "source": [
        "## Class wise bounding box area distribution"
      ]
    },
    {
      "cell_type": "code",
      "metadata": {
        "id": "SFsd8zuyXESn"
      },
      "source": [
        "# Class wise bounding box area distribution\n",
        "\n",
        "bbox_areas = {} # key: class index, value -> a list of bounding box areas\n",
        "\n",
        "for ann in root['annotations']:\n",
        "    area = ann['area']\n",
        "    cat_id = ann['category_id']\n",
        "    \n",
        "    if area <= 0.0:\n",
        "        continue\n",
        "    \n",
        "    if cat_id in bbox_areas.keys():\n",
        "        bbox_areas[cat_id].append(area)\n",
        "    else:\n",
        "        bbox_areas[cat_id] = [area]\n",
        "\n",
        "\n",
        "bbox_avg_areas = []\n",
        "\n",
        "for cat in bbox_areas.keys():\n",
        "    areas = bbox_areas[cat]\n",
        "    avg_area = int(sum(areas)/len(areas))\n",
        "    \n",
        "    bbox_avg_areas.append((cat,avg_area))\n",
        "\n",
        "bbox_avg_areas = sorted(bbox_avg_areas, key = lambda x: x[1])"
      ],
      "execution_count": 135,
      "outputs": []
    },
    {
      "cell_type": "code",
      "metadata": {
        "id": "y4cfoEiaXESo",
        "colab": {
          "base_uri": "https://localhost:8080/",
          "height": 1000
        },
        "outputId": "91c07b16-5a4a-466d-cbf7-792ac268145c"
      },
      "source": [
        "top = min(10, len(bbox_avg_areas))\n",
        "\n",
        "plt.figure(figsize=(10,10))\n",
        "\n",
        "y = [item[1] for item in bbox_avg_areas[-top:]]\n",
        "x = [item[0] for item in bbox_avg_areas[-top:]]\n",
        "\n",
        "y2 = [item[1] for item in bbox_avg_areas[:top]]\n",
        "x2 = [item[0] for item in bbox_avg_areas[:top]]\n",
        "\n",
        "plt.subplot(211)\n",
        "plt.bar(np.arange(len(y)),y, width=0.5,tick_label=x,color='green')\n",
        "plt.xlim(-0.5,len(y))\n",
        "plt.xlabel('Category Id')\n",
        "plt.ylabel('Average bounding box area in pixel squared')\n",
        "plt.title('Top '+str(top)+' Classes with highest avg bounding box size')\n",
        "\n",
        "\n",
        "plt.subplot(212)\n",
        "plt.bar(np.arange(len(y2)),y2, width=0.5,tick_label=x2,color='red')\n",
        "plt.xlim(-0.5,len(y2))\n",
        "plt.xlabel('Category Id')\n",
        "plt.ylabel('Average bounding box area in pixel squared')\n",
        "plt.title('Top '+str(top)+' Classes with lowest avg bounding box size')\n",
        "plt.show()\n",
        "\n",
        "\n",
        "\n",
        "\n",
        "categ_map = {x['id']: x['name'] for x in root['categories']}\n",
        "for k in categ_map.keys():\n",
        "    print(k,'->',categ_map[k])"
      ],
      "execution_count": 136,
      "outputs": [
        {
          "output_type": "display_data",
          "data": {
            "image/png": "[encoded data removed]",
            "text/plain": [
              "<Figure size 720x720 with 2 Axes>"
            ]
          },
          "metadata": {
            "tags": [],
            "needs_background": "light"
          }
        },
        {
          "output_type": "stream",
          "text": [
            "1 -> person\n",
            "2 -> bicycle\n",
            "3 -> car\n",
            "4 -> motorcycle\n",
            "5 -> airplane\n",
            "6 -> bus\n",
            "7 -> train\n",
            "8 -> truck\n",
            "9 -> boat\n",
            "10 -> traffic light\n",
            "11 -> fire hydrant\n",
            "13 -> stop sign\n",
            "14 -> parking meter\n",
            "15 -> bench\n",
            "16 -> bird\n",
            "17 -> cat\n",
            "18 -> dog\n",
            "19 -> horse\n",
            "20 -> sheep\n",
            "21 -> cow\n",
            "22 -> elephant\n",
            "23 -> bear\n",
            "24 -> zebra\n",
            "25 -> giraffe\n",
            "27 -> backpack\n",
            "28 -> umbrella\n",
            "31 -> handbag\n",
            "32 -> tie\n",
            "33 -> suitcase\n",
            "34 -> frisbee\n",
            "35 -> skis\n",
            "36 -> snowboard\n",
            "37 -> sports ball\n",
            "38 -> kite\n",
            "39 -> baseball bat\n",
            "40 -> baseball glove\n",
            "41 -> skateboard\n",
            "42 -> surfboard\n",
            "43 -> tennis racket\n",
            "44 -> bottle\n",
            "46 -> wine glass\n",
            "47 -> cup\n",
            "48 -> fork\n",
            "49 -> knife\n",
            "50 -> spoon\n",
            "51 -> bowl\n",
            "52 -> banana\n",
            "53 -> apple\n",
            "54 -> sandwich\n",
            "55 -> orange\n",
            "56 -> broccoli\n",
            "57 -> carrot\n",
            "58 -> hot dog\n",
            "59 -> pizza\n",
            "60 -> donut\n",
            "61 -> cake\n",
            "62 -> chair\n",
            "63 -> couch\n",
            "64 -> potted plant\n",
            "65 -> bed\n",
            "67 -> dining table\n",
            "70 -> toilet\n",
            "72 -> tv\n",
            "73 -> laptop\n",
            "74 -> mouse\n",
            "75 -> remote\n",
            "76 -> keyboard\n",
            "77 -> cell phone\n",
            "78 -> microwave\n",
            "79 -> oven\n",
            "80 -> toaster\n",
            "81 -> sink\n",
            "82 -> refrigerator\n",
            "84 -> book\n",
            "85 -> clock\n",
            "86 -> vase\n",
            "87 -> scissors\n",
            "88 -> teddy bear\n",
            "89 -> hair drier\n",
            "90 -> toothbrush\n"
          ],
          "name": "stdout"
        }
      ]
    },
    {
      "cell_type": "code",
      "metadata": {
        "id": "tHdjekpFLulq"
      },
      "source": [
        "# root['annotations']"
      ],
      "execution_count": 137,
      "outputs": []
    },
    {
      "cell_type": "markdown",
      "metadata": {
        "id": "WPEhZ9kyXESp"
      },
      "source": [
        "## Class wise 'occurance' in Captions\r\n"
      ]
    },
    {
      "cell_type": "code",
      "metadata": {
        "id": "0zX092_NOv8T"
      },
      "source": [
        "# caption['annotations']"
      ],
      "execution_count": 174,
      "outputs": []
    },
    {
      "cell_type": "code",
      "metadata": {
        "id": "8V8Bqz-0GRAj"
      },
      "source": [
        "caption_list=[]\r\n",
        "for x in caption['annotations']:\r\n",
        "  caption_list.append(x['caption'])"
      ],
      "execution_count": 140,
      "outputs": []
    },
    {
      "cell_type": "code",
      "metadata": {
        "id": "N0KbZyVQO2cA",
        "colab": {
          "base_uri": "https://localhost:8080/"
        },
        "outputId": "8f002c6f-ae7e-447d-a156-f60f86003b6d"
      },
      "source": [
        "caption_list[1:8]"
      ],
      "execution_count": 177,
      "outputs": [
        {
          "output_type": "execute_result",
          "data": {
            "text/plain": [
              "['A panoramic view of a kitchen and all of its appliances.',\n",
              " 'A blue and white bathroom with butterfly themed wall tiles.',\n",
              " 'A panoramic photo of a kitchen and dining room',\n",
              " 'A graffiti-ed stop sign across the street from a red car ',\n",
              " 'A vandalized stop sign and a red beetle on the road',\n",
              " 'A bathroom with a border of butterflies and blue paint on the walls above it.',\n",
              " 'An angled view of a beautifully decorated bathroom.']"
            ]
          },
          "metadata": {
            "tags": []
          },
          "execution_count": 177
        }
      ]
    },
    {
      "cell_type": "code",
      "metadata": {
        "id": "M85qecW5PLkN",
        "colab": {
          "base_uri": "https://localhost:8080/"
        },
        "outputId": "ff1af9e8-feba-42e7-9781-817bf8737a3b"
      },
      "source": [
        "len(caption_list)"
      ],
      "execution_count": 142,
      "outputs": [
        {
          "output_type": "execute_result",
          "data": {
            "text/plain": [
              "414113"
            ]
          },
          "metadata": {
            "tags": []
          },
          "execution_count": 142
        }
      ]
    },
    {
      "cell_type": "code",
      "metadata": {
        "id": "A9oBTOtPPO6P",
        "colab": {
          "base_uri": "https://localhost:8080/",
          "height": 36
        },
        "outputId": "20921d3f-449c-44db-aab6-468c4cfc222f"
      },
      "source": [
        "caption_list[9]"
      ],
      "execution_count": 143,
      "outputs": [
        {
          "output_type": "execute_result",
          "data": {
            "application/vnd.google.colaboratory.intrinsic+json": {
              "type": "string"
            },
            "text/plain": [
              "'A sink and a toilet inside a small bathroom.'"
            ]
          },
          "metadata": {
            "tags": []
          },
          "execution_count": 143
        }
      ]
    },
    {
      "cell_type": "code",
      "metadata": {
        "id": "GlaqOvTzPwnK",
        "colab": {
          "base_uri": "https://localhost:8080/"
        },
        "outputId": "829814a8-2b91-4863-acfb-982c9ce346fd"
      },
      "source": [
        "if 'toilet' in caption_list[9]:\r\n",
        "  print(\"bro\")"
      ],
      "execution_count": 144,
      "outputs": [
        {
          "output_type": "stream",
          "text": [
            "bro\n"
          ],
          "name": "stdout"
        }
      ]
    },
    {
      "cell_type": "code",
      "metadata": {
        "id": "_RG7tFn8P4X9"
      },
      "source": [
        "class_list=[]\r\n",
        "for x in root['categories']:\r\n",
        "  class_list.append(x['name'])"
      ],
      "execution_count": 145,
      "outputs": []
    },
    {
      "cell_type": "code",
      "metadata": {
        "id": "cEQ05NUfQQpH"
      },
      "source": [
        "# class_list"
      ],
      "execution_count": 178,
      "outputs": []
    },
    {
      "cell_type": "code",
      "metadata": {
        "id": "f40x30RMQRz7",
        "colab": {
          "base_uri": "https://localhost:8080/"
        },
        "outputId": "b7ea7ee3-ba1c-441f-8fe3-333dd89e9fae"
      },
      "source": [
        "cnt_frequency=[]\r\n",
        "for class_name in class_list:\r\n",
        "  cnt=0;\r\n",
        "  for caption in caption_list:\r\n",
        "    if class_name in caption:\r\n",
        "      cnt +=1\r\n",
        "  cnt_frequency.append(cnt);\r\n",
        "  print(class_name + ' : ' + str(cnt))"
      ],
      "execution_count": 147,
      "outputs": [
        {
          "output_type": "stream",
          "text": [
            "person : 17269\n",
            "bicycle : 2086\n",
            "car : 14819\n",
            "motorcycle : 6428\n",
            "airplane : 4261\n",
            "bus : 12347\n",
            "train : 11163\n",
            "truck : 5935\n",
            "boat : 5925\n",
            "traffic light : 1666\n",
            "fire hydrant : 3439\n",
            "stop sign : 2866\n",
            "parking meter : 1096\n",
            "bench : 6682\n",
            "bird : 5269\n",
            "cat : 16140\n",
            "dog : 14582\n",
            "horse : 8828\n",
            "sheep : 3606\n",
            "cow : 4583\n",
            "elephant : 7059\n",
            "bear : 7909\n",
            "zebra : 5890\n",
            "giraffe : 8205\n",
            "backpack : 587\n",
            "umbrella : 6949\n",
            "handbag : 64\n",
            "tie : 4108\n",
            "suitcase : 1923\n",
            "frisbee : 3842\n",
            "skis : 3986\n",
            "snowboard : 3314\n",
            "sports ball : 2\n",
            "kite : 6329\n",
            "baseball bat : 1332\n",
            "baseball glove : 146\n",
            "skateboard : 9781\n",
            "surfboard : 4904\n",
            "tennis racket : 2134\n",
            "bottle : 2012\n",
            "wine glass : 794\n",
            "cup : 2770\n",
            "fork : 1169\n",
            "knife : 1308\n",
            "spoon : 629\n",
            "bowl : 4575\n",
            "banana : 4565\n",
            "apple : 1891\n",
            "sandwich : 4011\n",
            "orange : 4316\n",
            "broccoli : 2321\n",
            "carrot : 1545\n",
            "hot dog : 1863\n",
            "pizza : 8913\n",
            "donut : 1983\n",
            "cake : 6693\n",
            "chair : 5922\n",
            "couch : 4268\n",
            "potted plant : 183\n",
            "bed : 9649\n",
            "dining table : 451\n",
            "toilet : 7268\n",
            "tv : 875\n",
            "laptop : 6623\n",
            "mouse : 1137\n",
            "remote : 1856\n",
            "keyboard : 2152\n",
            "cell phone : 3578\n",
            "microwave : 1292\n",
            "oven : 2136\n",
            "toaster : 224\n",
            "sink : 6118\n",
            "refrigerator : 2449\n",
            "book : 2690\n",
            "clock : 7059\n",
            "vase : 3909\n",
            "scissors : 1286\n",
            "teddy bear : 3373\n",
            "hair drier : 2\n",
            "toothbrush : 827\n"
          ],
          "name": "stdout"
        }
      ]
    },
    {
      "cell_type": "code",
      "metadata": {
        "id": "rbmhrgstRWMy"
      },
      "source": [
        "cat_list=[]\r\n",
        "for k in categ_map.keys():\r\n",
        "    cat_list.append(k)"
      ],
      "execution_count": 148,
      "outputs": []
    },
    {
      "cell_type": "code",
      "metadata": {
        "id": "bGw9bpsvYVlx"
      },
      "source": [
        "word_cnt_list=[]\r\n",
        "for k in cnt_frequency:\r\n",
        "  word_cnt_list.append(k)"
      ],
      "execution_count": 150,
      "outputs": []
    },
    {
      "cell_type": "code",
      "metadata": {
        "id": "eeZOHM7abmDe"
      },
      "source": [
        "word_cnt_tuple_list=[]\r\n",
        "for i in range(len(cat_list)):\r\n",
        "  a = cat_list[i]\r\n",
        "  b = word_cnt_list[i]\r\n",
        "  word_cnt_tuple_list.append((a,b))\r\n",
        "\r\n",
        "word_cnt_tuple_list = sorted(word_cnt_tuple_list, key = lambda x: x[1])"
      ],
      "execution_count": 170,
      "outputs": []
    },
    {
      "cell_type": "code",
      "metadata": {
        "colab": {
          "base_uri": "https://localhost:8080/",
          "height": 1000
        },
        "id": "mMjbXtigbfo1",
        "outputId": "868efa80-035a-4f52-f905-c1819a7ef109"
      },
      "source": [
        "top = min(10, len(word_cnt_tuple_list))\r\n",
        "\r\n",
        "plt.figure(figsize=(10,10))\r\n",
        "\r\n",
        "y = [item[1] for item in word_cnt_tuple_list[-top:]]\r\n",
        "x = [item[0] for item in word_cnt_tuple_list[-top:]]\r\n",
        "\r\n",
        "y2 = [item[1] for item in word_cnt_tuple_list[:top]]\r\n",
        "x2 = [item[0] for item in word_cnt_tuple_list[:top]]\r\n",
        "\r\n",
        "plt.subplot(211)\r\n",
        "plt.bar(np.arange(len(y)),y, width=0.5,tick_label=x,color='green')\r\n",
        "plt.xlim(-0.5,len(y))\r\n",
        "plt.xlabel('Category Id')\r\n",
        "plt.ylabel('nos. of captions')\r\n",
        "plt.title('Top '+str(top)+' Classes with highest occurance in captions')\r\n",
        "\r\n",
        "\r\n",
        "plt.subplot(212)\r\n",
        "plt.bar(np.arange(len(y2)),y2, width=0.5,tick_label=x2,color='red')\r\n",
        "plt.xlim(-0.5,len(y2))\r\n",
        "plt.xlabel('Category Id')\r\n",
        "plt.ylabel('nos. of captions')\r\n",
        "plt.title('Top '+str(top)+' Classes with lowest occurance in captions')\r\n",
        "plt.show()\r\n",
        "\r\n",
        "\r\n",
        "categ_map = {x['id']: x['name'] for x in root['categories']}\r\n",
        "for k in categ_map.keys():\r\n",
        "    print(k,'->',categ_map[k])"
      ],
      "execution_count": 172,
      "outputs": [
        {
          "output_type": "display_data",
          "data": {
            "image/png": "[encoded data removed]",
            "text/plain": [
              "<Figure size 720x720 with 2 Axes>"
            ]
          },
          "metadata": {
            "tags": [],
            "needs_background": "light"
          }
        },
        {
          "output_type": "stream",
          "text": [
            "1 -> person\n",
            "2 -> bicycle\n",
            "3 -> car\n",
            "4 -> motorcycle\n",
            "5 -> airplane\n",
            "6 -> bus\n",
            "7 -> train\n",
            "8 -> truck\n",
            "9 -> boat\n",
            "10 -> traffic light\n",
            "11 -> fire hydrant\n",
            "13 -> stop sign\n",
            "14 -> parking meter\n",
            "15 -> bench\n",
            "16 -> bird\n",
            "17 -> cat\n",
            "18 -> dog\n",
            "19 -> horse\n",
            "20 -> sheep\n",
            "21 -> cow\n",
            "22 -> elephant\n",
            "23 -> bear\n",
            "24 -> zebra\n",
            "25 -> giraffe\n",
            "27 -> backpack\n",
            "28 -> umbrella\n",
            "31 -> handbag\n",
            "32 -> tie\n",
            "33 -> suitcase\n",
            "34 -> frisbee\n",
            "35 -> skis\n",
            "36 -> snowboard\n",
            "37 -> sports ball\n",
            "38 -> kite\n",
            "39 -> baseball bat\n",
            "40 -> baseball glove\n",
            "41 -> skateboard\n",
            "42 -> surfboard\n",
            "43 -> tennis racket\n",
            "44 -> bottle\n",
            "46 -> wine glass\n",
            "47 -> cup\n",
            "48 -> fork\n",
            "49 -> knife\n",
            "50 -> spoon\n",
            "51 -> bowl\n",
            "52 -> banana\n",
            "53 -> apple\n",
            "54 -> sandwich\n",
            "55 -> orange\n",
            "56 -> broccoli\n",
            "57 -> carrot\n",
            "58 -> hot dog\n",
            "59 -> pizza\n",
            "60 -> donut\n",
            "61 -> cake\n",
            "62 -> chair\n",
            "63 -> couch\n",
            "64 -> potted plant\n",
            "65 -> bed\n",
            "67 -> dining table\n",
            "70 -> toilet\n",
            "72 -> tv\n",
            "73 -> laptop\n",
            "74 -> mouse\n",
            "75 -> remote\n",
            "76 -> keyboard\n",
            "77 -> cell phone\n",
            "78 -> microwave\n",
            "79 -> oven\n",
            "80 -> toaster\n",
            "81 -> sink\n",
            "82 -> refrigerator\n",
            "84 -> book\n",
            "85 -> clock\n",
            "86 -> vase\n",
            "87 -> scissors\n",
            "88 -> teddy bear\n",
            "89 -> hair drier\n",
            "90 -> toothbrush\n"
          ],
          "name": "stdout"
        }
      ]
    },
    {
      "cell_type": "code",
      "metadata": {
        "id": "Ku4_gRrbcfcN"
      },
      "source": [
        ""
      ],
      "execution_count": null,
      "outputs": []
    }
  ]
}